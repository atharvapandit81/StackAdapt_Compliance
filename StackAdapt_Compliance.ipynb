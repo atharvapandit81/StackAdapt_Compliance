{
 "cells": [
  {
   "cell_type": "code",
   "execution_count": 14,
   "id": "8914e3cf-6d4e-4213-954f-44022871b3c3",
   "metadata": {},
   "outputs": [
    {
     "name": "stdout",
     "output_type": "stream",
     "text": [
      "<PIL.JpegImagePlugin.JpegImageFile image mode=RGB size=1024x1024 at 0x10773C9D0>\n",
      "Image is compliant with the guidelines.\n"
     ]
    },
    {
     "data": {
      "text/plain": [
       "True"
      ]
     },
     "execution_count": 14,
     "metadata": {},
     "output_type": "execute_result"
    }
   ],
   "source": [
    "# Code to cheack if the image is complaint with the rules and regulations of the company.\n",
    "\n",
    "from PIL import Image\n",
    "import os\n",
    "\n",
    "# Define the company guidelines\n",
    "MIN_WIDTH = 1024\n",
    "MIN_HEIGHT = 768\n",
    "MAX_FILE_SIZE_MB = 5\n",
    "ALLOWED_FORMATS = ['JPEG', 'PNG']\n",
    "ALLOWED_COLOR_MODES = ['RGB', 'CMYK']  # Add more if needed\n",
    "\n",
    "def is_image_compliant(image_path):\n",
    "    print(Image.open(image_path))\n",
    "    try:\n",
    "        # Check the file size\n",
    "        file_size = os.path.getsize(image_path) / (1024 * 1024)  # size in MB\n",
    "        if file_size > MAX_FILE_SIZE_MB:\n",
    "            print(f\"File size too large: {file_size:.2f} MB\")\n",
    "            return False\n",
    "\n",
    "        # Open the image\n",
    "        with Image.open(image_path) as img:\n",
    "            width, height = img.size\n",
    "            format = img.format\n",
    "            color_mode = img.mode\n",
    "\n",
    "            # Check resolution\n",
    "            if width < MIN_WIDTH or height < MIN_HEIGHT:\n",
    "                print(f\"Resolution too small: {width}x{height}\")\n",
    "                return False\n",
    "\n",
    "            # Check file format\n",
    "            if format not in ALLOWED_FORMATS:\n",
    "                print(f\"File format not allowed: {format}\")\n",
    "                return False\n",
    "\n",
    "            # Check color mode\n",
    "            if color_mode not in ALLOWED_COLOR_MODES:\n",
    "                print(f\"Color mode not allowed: {color_mode}\")\n",
    "                return False\n",
    "\n",
    "        print(\"Image is compliant with the guidelines.\")\n",
    "        return True\n",
    "\n",
    "    except Exception as e:\n",
    "        print(f\"Error processing image: {e}\")\n",
    "        return False\n",
    "\n",
    "# Example usage\n",
    "image_path = \"/Users/atharvapandit/Downloads/compliant_image_1024x768.jpeg\"\n",
    "is_image_compliant(image_path)\n"
   ]
  },
  {
   "cell_type": "code",
   "execution_count": 15,
   "id": "72b4e6d2-3d64-4e2d-8062-46acd80c29ca",
   "metadata": {},
   "outputs": [
    {
     "name": "stdout",
     "output_type": "stream",
     "text": [
      "\n",
      "\"LEGAL\"\n",
      "Bounding Polygon:\n",
      "(51,80)\n",
      "(236,80)\n",
      "(236,158)\n",
      "(51,158)\n",
      "\n",
      "\"LEGAL\"\n",
      "Bounding Polygon:\n",
      "(51,128)\n",
      "(227,80)\n",
      "(236,109)\n",
      "(59,158)\n"
     ]
    }
   ],
   "source": [
    "# Code to check if the image has the word legal in it.\n",
    "\n",
    "import os\n",
    "from google.cloud import vision\n",
    "import io\n",
    "\n",
    "# Set the GOOGLE_APPLICATION_CREDENTIALS environment variable\n",
    "os.environ['GOOGLE_APPLICATION_CREDENTIALS'] = '/Users/atharvapandit/Downloads/banded-syntax-439118-c9-fcfc493926f8.json'\n",
    "\n",
    "# Set up the Google Cloud Vision client\n",
    "client = vision.ImageAnnotatorClient()\n",
    "\n",
    "def detect_text(image_path):\n",
    "    \"\"\"Detects text in the image file.\"\"\"\n",
    "    with io.open(image_path, 'rb') as image_file:\n",
    "        content = image_file.read()\n",
    "\n",
    "    image = vision.Image(content=content)\n",
    "    response = client.text_detection(image=image)\n",
    "    texts = response.text_annotations\n",
    "\n",
    "    if response.error.message:\n",
    "        raise Exception(f'{response.error.message}')\n",
    "    \n",
    "    # Display detected texts\n",
    "    for text in texts:\n",
    "        print(f'\\n\"{text.description}\"')\n",
    "        print('Bounding Polygon:')\n",
    "        for vertex in text.bounding_poly.vertices:\n",
    "            print(f'({vertex.x},{vertex.y})')\n",
    "\n",
    "# Replace 'your-image-path' with the path to your image\n",
    "detect_text('/Users/atharvapandit/Downloads/legal.jpeg')\n"
   ]
  },
  {
   "cell_type": "code",
   "execution_count": null,
   "id": "f6d3fa38-a7c6-4c2b-b384-ca473d767c98",
   "metadata": {},
   "outputs": [],
   "source": []
  }
 ],
 "metadata": {
  "kernelspec": {
   "display_name": "Python (myenv)",
   "language": "python",
   "name": "myenv"
  },
  "language_info": {
   "codemirror_mode": {
    "name": "ipython",
    "version": 3
   },
   "file_extension": ".py",
   "mimetype": "text/x-python",
   "name": "python",
   "nbconvert_exporter": "python",
   "pygments_lexer": "ipython3",
   "version": "3.13.0"
  }
 },
 "nbformat": 4,
 "nbformat_minor": 5
}
